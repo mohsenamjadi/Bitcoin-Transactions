{
  "nbformat": 4,
  "nbformat_minor": 0,
  "metadata": {
    "colab": {
      "name": "crypto1.ipynb",
      "provenance": [],
      "collapsed_sections": [
        "3GdjRXiHKDr9",
        "vyzMzeSuJ9B8"
      ],
      "toc_visible": true
    },
    "kernelspec": {
      "name": "python3",
      "display_name": "Python 3"
    },
    "language_info": {
      "name": "python"
    }
  },
  "cells": [
    {
      "cell_type": "markdown",
      "metadata": {
        "id": "HVzfKfVZ_plY"
      },
      "source": [
        "# ***Mohsen Amjadi - 810896043***"
      ]
    },
    {
      "cell_type": "markdown",
      "metadata": {
        "id": "Xng-shTv4mEi"
      },
      "source": [
        "# Section 1"
      ]
    },
    {
      "cell_type": "markdown",
      "metadata": {
        "id": "3GdjRXiHKDr9"
      },
      "source": [
        "## Q1"
      ]
    },
    {
      "cell_type": "markdown",
      "metadata": {
        "id": "yQpGqYw6oqm3"
      },
      "source": [
        "In this project we want to interact with bitcoin network practically and make some transactions to fully understand the content of the course.\n",
        "\n",
        "for our purpose we are going to use TestNet that developers of bitcoin do their experiments on this network.\n",
        "\n",
        "in our first step we should generate an address for ourselves on the testnet.\n",
        "so the first thing we need is to generate a private key so that we would have a pair of private and public key.\n",
        "\n",
        "The first thing we need to do is to apply the ECDSA or Elliptic Curve Digital Signature Algorithm to our private key. An elliptic curve is a curve defined by the equation y² = x³ + ax + b with a chosen a and b. There is a whole family of such curves that are widely known and used. Bitcoin uses the secp256k1 curve.\n",
        "\n",
        "Since bitcoin uses spec256k1 the only thing that we need to do is multiply it by the initial point in the curve by the private key to obtain the public key.\n",
        "\n",
        "Next step is to convert the key to a byte array and hash it, first with SHA-256 then with RIPEMD-160. Then we prepend the hashed public key with 0x6f because the address generated is meant to be used in the testnet.\n",
        "\n",
        "Then we just encode the key bytes to base58 and we have our Bitcoin address.\n",
        "\n",
        "the address that I have first generated and used in the code is : mnDRW17zqsRT4ew6o4KTdsaXsqELf6uGfq\n",
        "\n",
        "but I have ran the code for other purposes so the results of the codes below may be different with this address that I mentioned.\n",
        "\n",
        "To create a WIF key from the private key bytes, first we prepend the byte \\xEF to the wif, then append the private key bytes. After, append the checksum, that is the last 4 bytes of the double SHA-256 of the partial wif key that we already have calculated.\n",
        "\n",
        "so here is my private key in WIF format :\n",
        "93M8Ue7roWS3tPBpsSLGM3TUyZGhZg2CxuX9zxqYKnnZ9RzVo3x\n",
        "\n",
        "and this is my address in base 58 encoding:\n",
        "mnDRW17zqsRT4ew6o4KTdsaXsqELf6uGfq\n",
        "\n",
        "the difference between MainNet and TestNet addresses is that the address for the mainnet start with 1 but the address for the testnet start with m or n.\n",
        "\n"
      ]
    },
    {
      "cell_type": "code",
      "metadata": {
        "colab": {
          "base_uri": "https://localhost:8080/"
        },
        "id": "8XzkFwWMkoxt",
        "outputId": "a1448cc3-97d1-4c50-9cbf-284bd5ff2011"
      },
      "source": [
        "import os\n",
        "import hashlib\n",
        "\n",
        "\n",
        "def sha256(data):\n",
        "    digest = hashlib.new(\"sha256\")\n",
        "    digest.update(data)\n",
        "    return digest.digest()\n",
        "\n",
        "\n",
        "def ripemd160(x):\n",
        "    d = hashlib.new(\"ripemd160\")\n",
        "    d.update(x)\n",
        "    return d.digest()\n",
        "\n",
        "\n",
        "def b58(data):\n",
        "    B58 = \"123456789ABCDEFGHJKLMNPQRSTUVWXYZabcdefghijkmnopqrstuvwxyz\"\n",
        "\n",
        "    if data[0] == 0:\n",
        "        return \"1\" + b58(data[1:])\n",
        "\n",
        "    x = sum([v * (256 ** i) for i, v in enumerate(data[::-1])])\n",
        "    ret = \"\"\n",
        "    while x > 0:\n",
        "        ret = B58[x % 58] + ret\n",
        "        x = x // 58\n",
        "\n",
        "    return ret\n",
        "\n",
        "\n",
        "class Point:\n",
        "    def __init__(self,\n",
        "        x=0x79BE667EF9DCBBAC55A06295CE870B07029BFCDB2DCE28D959F2815B16F81798,\n",
        "        y=0x483ADA7726A3C4655DA4FBFC0E1108A8FD17B448A68554199C47D08FFB10D4B8,\n",
        "        p=2**256 - 2**32 - 2**9 - 2**8 - 2**7 - 2**6 - 2**4 - 1):\n",
        "        self.x = x\n",
        "        self.y = y\n",
        "        self.p = p\n",
        "\n",
        "    def __add__(self, other):\n",
        "        return self.__radd__(other)\n",
        "\n",
        "    def __mul__(self, other):\n",
        "        return self.__rmul__(other)\n",
        "\n",
        "    def __rmul__(self, other):\n",
        "        n = self\n",
        "        q = None\n",
        "\n",
        "        for i in range(256):\n",
        "            if other & (1 << i):\n",
        "                q = q + n\n",
        "            n = n + n\n",
        "\n",
        "        return q\n",
        "\n",
        "    def __radd__(self, other):\n",
        "        if other is None:\n",
        "            return self\n",
        "        x1 = other.x\n",
        "        y1 = other.y\n",
        "        x2 = self.x\n",
        "        y2 = self.y\n",
        "        p = self.p\n",
        "\n",
        "        if self == other:\n",
        "            l = pow(2 * y2 % p, p-2, p) * (3 * x2 * x2) % p\n",
        "        else:\n",
        "            l = pow(x1 - x2, p-2, p) * (y1 - y2) % p\n",
        "\n",
        "        newX = (l ** 2 - x2 - x1) % p\n",
        "        newY = (l * x2 - l * newX - y2) % p\n",
        "\n",
        "        return Point(newX, newY)\n",
        "\n",
        "    def toBytes(self):\n",
        "        x = self.x.to_bytes(32, \"big\")\n",
        "        y = self.y.to_bytes(32, \"big\")\n",
        "        return b\"\\x04\" + x + y\n",
        "\n",
        "\n",
        "def getPublicKey(privkey):\n",
        "    SPEC256k1 = Point()\n",
        "    pk = int.from_bytes(privkey, \"big\")\n",
        "    hash160 = ripemd160(sha256((SPEC256k1 * pk).toBytes()))\n",
        "    address = b\"\\x6f\" + hash160 # Test Net\n",
        "\n",
        "    # 0x00 if the target network is the mainnet\n",
        "\n",
        "    address = b58(address + sha256(sha256(address))[:4])\n",
        "    return address\n",
        "\n",
        "\n",
        "def getWif(privkey):\n",
        "    wif = b\"\\xEF\" + privkey\n",
        "    wif = b58(wif + sha256(sha256(wif))[:4])\n",
        "    return wif\n",
        "\n",
        "\n",
        "randomBytes = os.urandom(32)\n",
        "print(\"Address: \" + getPublicKey(randomBytes))\n",
        "print(\"Privkey: \" + getWif(randomBytes))"
      ],
      "execution_count": null,
      "outputs": [
        {
          "output_type": "stream",
          "text": [
            "Address: mr2LajhuCyceBj8qL5xERCRFAqc5dHZZCN\n",
            "Privkey: 93HDNsgs1H3qn8CCVVtNUpWuBJnVB6ZuobCpC2kwUuQJTwWvwUN\n"
          ],
          "name": "stdout"
        }
      ]
    },
    {
      "cell_type": "markdown",
      "metadata": {
        "id": "vyzMzeSuJ9B8"
      },
      "source": [
        "## Q2"
      ]
    },
    {
      "cell_type": "markdown",
      "metadata": {
        "id": "KuISUaXexny0"
      },
      "source": [
        "this is a simple code that I have written for generating vanity address that start with three character \"moh\" which is the first three characters of my name. but eventhough I made the code to work in parallel, due to my laptop is weak and it takes a long time to be generated, I have not generated the vanity address but by running this code it may be generated after a time."
      ]
    },
    {
      "cell_type": "code",
      "metadata": {
        "id": "ankR9iCcNLOA"
      },
      "source": [
        "!pip install bitcoin"
      ],
      "execution_count": null,
      "outputs": []
    },
    {
      "cell_type": "code",
      "metadata": {
        "id": "AqUrl5CIv7vV"
      },
      "source": [
        "import bitcoin\n",
        "import random\n",
        "import time\n",
        "import sys\n",
        "from multiprocessing import Process, Value\n",
        "\n",
        "THREADS = 16\n",
        "\n",
        "class vanitygen(Process):\n",
        "    def _init_ (self, pattern):\n",
        "        Process._init_(self)\n",
        "        self.pattern = pattern\n",
        "\n",
        "    def run(self):\n",
        "        while 1:\n",
        "            # generate the secret private key\n",
        "            secret_key = bitcoin.random_key()\n",
        "\n",
        "            # generate the address derived from private key\n",
        "            address = bitcoin.privkey_to_address(secret_key)\n",
        "\n",
        "            if address.startswith(\"1\" + self.pattern): break\n",
        "\n",
        "        print(\"Vanity address found: \", address)\n",
        "        print(\"HEX private key: \", secret_key)\n",
        "\n",
        "def pattern_mine():\n",
        "    #Init worker threads\n",
        "    workers = []\n",
        "    for i in range(0,THREADS):\n",
        "        worker = vanitygen(\"moh\")\n",
        "        worker.daemon = True\n",
        "        workers.append(worker)\n",
        "        worker.start()\n",
        "\n",
        "start = time.time()\n",
        "pattern_mine()\n",
        "end = time.time() - start\n",
        "print(\"Elapsed time: \", end)"
      ],
      "execution_count": null,
      "outputs": []
    },
    {
      "cell_type": "code",
      "metadata": {
        "id": "82lkPzSIJ2aQ"
      },
      "source": [
        "import bitcoin\n",
        "import random\n",
        "import time\n",
        "import sys\n",
        "\n",
        "\n",
        "def pattern_mine(pattern = \"moh\", startWith = True):\n",
        "    secret_key = \"\"\n",
        "    address = \"\"\n",
        "    while 1:\n",
        "        # generate the secret private key\n",
        "        secret_key = bitcoin.random_key()\n",
        "\n",
        "        # generate the address derived from private key\n",
        "        address = bitcoin.privkey_to_address(secret_key)\n",
        "\n",
        "        if bool(startWith):\n",
        "            if address.startswith(\"1\" + pattern): break\n",
        "        else:\n",
        "            if pattern in address: break\n",
        "\n",
        "    print(\"Vanity address found: \", address)\n",
        "    print(\"HEX private key: \", secret_key)\n",
        "\n",
        "start = time.time()\n",
        "pattern_mine()\n",
        "end = time.time() - start\n",
        "print(\"Elapsed time: \", end)"
      ],
      "execution_count": null,
      "outputs": []
    },
    {
      "cell_type": "markdown",
      "metadata": {
        "id": "Q8La3uvGXHaK"
      },
      "source": [
        "## Q3"
      ]
    },
    {
      "cell_type": "markdown",
      "metadata": {
        "id": "-7Wi_4s923wD"
      },
      "source": [
        "Here in this question we have been asked to create segwit addresses.I have used python bitcoin-utils library to create such an address.\n",
        "\n",
        "SegWit effectively separates, or segregates, the signature data, or witness data, from bitcoin transactions. Doing so enables a Bitcoin block to hold more transactions, which in turn, increases the network’s scalability.Bech32 is a bitcoin address that is fully compatible with SegWit. Many people refer to Bech32 addresses as bc1 addresses because their address strings always start with ‘bc1’.\n",
        "\n",
        "Primarily, transactions that utilize SegWit are cheaper and significantly faster than traditional bitcoin transactions.\n",
        "\n",
        "Because SegWit separates the signature data from a transaction, you can fit more transactions into an individual Bitcoin block. Doing so removes the seven transactions per second maximum that previously existed for Bitcoin’s throughput.\n",
        "\n",
        "Fitting more transactions into each block also leads to lower fees for users. Fees on SegWit transactions are generally 25 to 40 percent lower than non-SegWit ones.\n"
      ]
    },
    {
      "cell_type": "code",
      "metadata": {
        "id": "KtBAEsMlFov3"
      },
      "source": [
        "!pip install bitcoin-utils"
      ],
      "execution_count": null,
      "outputs": []
    },
    {
      "cell_type": "code",
      "metadata": {
        "colab": {
          "base_uri": "https://localhost:8080/"
        },
        "id": "VhVlUeCq-37P",
        "outputId": "08a21191-28a1-4567-f63d-8144cf0667a5"
      },
      "source": [
        "from bitcoinutils.setup import setup\n",
        "from bitcoinutils.script import Script\n",
        "from bitcoinutils.keys import P2wpkhAddress, P2wshAddress, P2shAddress, PrivateKey, PublicKey\n",
        "\n",
        "def main():\n",
        "    setup('testnet')\n",
        "\n",
        "    priv = PrivateKey.from_wif('93M8Ue7roWS3tPBpsSLGM3TUyZGhZg2CxuX9zxqYKnnZ9RzVo3x')\n",
        "\n",
        "    # compressed is the default\n",
        "    print(\"\\nPrivate key WIF:\", priv.to_wif(compressed=True))\n",
        "\n",
        "    # get the public key\n",
        "    pub = priv.get_public_key()\n",
        "\n",
        "    # compressed is the default\n",
        "    print(\"Public key:\", pub.to_hex(compressed=True))\n",
        "\n",
        "    # get address from public key\n",
        "    address = pub.get_segwit_address()\n",
        "\n",
        "    # print the address and hash - default is compressed address\n",
        "    print(\"Native Address:\", address.to_string())\n",
        "    segwit_hash = address.to_hash()\n",
        "    print(\"Segwit Hash:\", segwit_hash)\n",
        "    print(\"Segwit Version:\", address.get_type())\n",
        "\n",
        "\n",
        "if __name__ == \"__main__\":\n",
        "    main()"
      ],
      "execution_count": 3,
      "outputs": [
        {
          "output_type": "stream",
          "text": [
            "\n",
            "Private key WIF: cVMqzzqGpGuZjnvnHcp2jTqtUdSJ3DEKokp6iqTFFw64sjDWcTCx\n",
            "Public key: 0335b7bffe0a55ea263198c5d2ce0195a737df8020134fda2ba5bed4f6c58a030c\n",
            "Native Address: tb1qfpr7qtvxvv22avygux2jsswz265raap9kvachy\n",
            "Segwit Hash: 4847e02d866314aeb088e1952841c256a83ef425\n",
            "Segwit Version: p2wpkhv0\n"
          ],
          "name": "stdout"
        }
      ]
    },
    {
      "cell_type": "markdown",
      "metadata": {
        "id": "tB3psOxi4qlN"
      },
      "source": [
        "# section 2"
      ]
    },
    {
      "cell_type": "markdown",
      "metadata": {
        "id": "8usrwxji9GuD"
      },
      "source": [
        "these python codes have been run seperately in different files but because of the importing issues I did not run these codes here, but here is my address and you can check the transactions of me in blockchain explorer.\n",
        "\n",
        "address: mnDRW17zqsRT4ew6o4KTdsaXsqELf6uGfq"
      ]
    },
    {
      "cell_type": "markdown",
      "metadata": {
        "id": "uV35N38B6ISJ"
      },
      "source": [
        "In this section we are going to deal with transactions by completing a starter source code that we have been given, and it is using python bitcoinlib library.\n",
        "\n",
        "so our first step is to complete the source code. below is my first version of that:"
      ]
    },
    {
      "cell_type": "code",
      "metadata": {
        "id": "b-rIrbA77M6e"
      },
      "source": [
        "import bitcoin.wallet\n",
        "from bitcoin.core import COIN, b2lx, serialize, x, lx, b2x\n",
        "import utils as u\n",
        "#from utils import *\n",
        "\n",
        "from bitcoin.core.script import *\n",
        "\n",
        "bitcoin.SelectParams(\"testnet\")\n",
        "my_private_key = bitcoin.wallet.CBitcoinSecret(\"93M8Ue7roWS3tPBpsSLGM3TUyZGhZg2CxuX9zxqYKnnZ9RzVo3x\")\n",
        "my_public_key = my_private_key.pub\n",
        "my_address = bitcoin.wallet.P2PKHBitcoinAddress.from_pubkey(my_public_key)\n",
        "destination_address = bitcoin.wallet.CBitcoinAddress('mnDRW17zqsRT4ew6o4KTdsaXsqELf6uGfq')\n",
        "\n",
        "\n",
        "def P2PKH_scriptPubKey(address):\n",
        "    # return address.to_scriptPubKey() \n",
        "    return [OP_DUP, OP_HASH160, address, OP_EQUALVERIFY, OP_CHECKSIG]\n",
        "\n",
        "def P2PKH_scriptSig(txin, txout, txin_scriptPubKey):\n",
        "    signature = u.create_OP_CHECKSIG_signature(txin, txout, txin_scriptPubKey, my_private_key)\n",
        "\n",
        "    return [signature, my_public_key]\n",
        "\n",
        "def send_from_P2PKH_transaction(amount_to_send, txid_to_spend, utxo_index,\n",
        "                                txout_scriptPubKey):\n",
        "    txout = u.create_txout(amount_to_send, txout_scriptPubKey)\n",
        "\n",
        "    txin_scriptPubKey = P2PKH_scriptPubKey(my_address)\n",
        "    txin = u.create_txin(txid_to_spend, utxo_index)\n",
        "    txin_scriptSig = P2PKH_scriptSig(txin, txout, txin_scriptPubKey)\n",
        "\n",
        "    new_tx = u.create_signed_transaction(txin, txout, txin_scriptPubKey,\n",
        "                                       txin_scriptSig)\n",
        "\n",
        "    return u.broadcast_transaction(new_tx)\n",
        "\n",
        "\n",
        "if __name__ == '__main__':\n",
        "    amount_to_send = 0.01 \n",
        "    txid_to_spend = ('8d0eedb5813d48a07705a49683dfa64b4adaa8471483adc3a36ae057fab090aa')\n",
        "    utxo_index = 0\n",
        "\n",
        "    print(my_address)\n",
        "    print(my_public_key.hex())\n",
        "    print(my_private_key.hex())\n",
        "    txout_scriptPubKey = P2PKH_scriptPubKey(destination_address)\n",
        "    response = send_from_P2PKH_transaction(amount_to_send, txid_to_spend, utxo_index, txout_scriptPubKey)\n",
        "    print(response.status_code, response.reason)\n",
        "    print(response.text)"
      ],
      "execution_count": null,
      "outputs": []
    },
    {
      "cell_type": "markdown",
      "metadata": {
        "id": "ftPgLTam7mfE"
      },
      "source": [
        "so you can see in P2PKH_scriptPubKey function I returned:\n",
        "\n",
        "[OP_DUP, OP_HASH160, address, OP_EQUALVERIFY, OP_CHECKSIG]\n",
        "\n",
        "that are operations of scriptpubkey, also we can return address.to_scriptPubKey() but because CScript is applying on operation somewhere in the code we don't use and we we just return those operations.\n",
        "\n",
        "scriptPubKey is a locking script placed on the output of a Bitcoin transaction that requires certain conditions to be met in order for a recipient to spend his/her bitcoins; scriptPubKey is also known as PubKey Script outside of the Bitcoin code. Conversely, scriptSig is the unlocking script that satisfies the conditions placed on the output by the scriptPubKey, and  is what allows it to be spent; outside of code, scriptSig is also known as Signature scripts.\n",
        "\n",
        "By joining the scriptSig and the scriptPubKey we have a complete P2PKH, whose function can be summarized as follows:\n",
        "\n",
        "An issuer can only spend bitcoins that they have received at a public address they own. But to spend them, you must prove that that address really is yours. So you need to supply the correct public key and private key to unlock the expense.\n",
        "\n",
        "Confirmed this point, the issuer sends to another address a certain amount of coins that cease to be his property to become the property of another user, who can only spend those coins following the same process.\n",
        "\n",
        "so for the P2PKH_scriptSig function we just return [signature, my_public_key].\n"
      ]
    },
    {
      "cell_type": "markdown",
      "metadata": {
        "id": "jPsrlOzjALfd"
      },
      "source": [
        "## MultiSig"
      ]
    },
    {
      "cell_type": "markdown",
      "metadata": {
        "id": "hVnlgSMwAPt1"
      },
      "source": [
        "now in this question we are going to generate three new addresses and make a transaction that is using multiple signatures.\n",
        "\n",
        "our three public keys are generated from the three private keys as below:\n",
        "\n",
        "\n",
        "priv1 = bitcoin.wallet.CBitcoinSecret(\"92Xm1FGvDYQssVPp4G4jDJ1t5NsssL2wczX1nJTFYfsDb2yQu6d\")\n",
        "\n",
        "priv2 = bitcoin.wallet.CBitcoinSecret(\"92pGkKhYM2LcfEGftUuP7AVa2Z9TW5ke8VjRFZRDnuSGnDkc6PB\")\n",
        "\n",
        "priv3 = bitcoin.wallet.CBitcoinSecret(\"91wKX692EH3nFcvunvyFbhPhV3ezNdjgLQzcFvsf4CEJcJ8gai1\")\n",
        "\n",
        "pub1 = priv1.pub\n",
        "pub2 = priv2.pub\n",
        "pub3 = priv3.pub\n",
        "\n",
        "---------------------------------------------------------\n",
        "\n",
        "for our purpose I have defined a new function for scriptPubKey process and called P2PKH_scriptPubKey_multisig.\n",
        "so it returns [my_public_key, OP_CHECKSIGVERIFY, OP_2, p1, p2, p3, OP_3, OP_CHECKMULTISIG] that is the format for checking multi signature.\n",
        "\n",
        "and I gave the three pub keys to this function and saved the output as txout_scriptPubKey :\n",
        "\n",
        "txout_scriptPubKey = P2PKH_scriptPubKey_multisig(pub1,pub2,pub3)\n"
      ]
    },
    {
      "cell_type": "code",
      "metadata": {
        "id": "-h1hEdCBAX0H"
      },
      "source": [
        "import bitcoin.wallet\n",
        "from bitcoin.core import COIN, b2lx, serialize, x, lx, b2x\n",
        "import utils as u\n",
        "#from utils import *\n",
        "\n",
        "from bitcoin.core.script import *\n",
        "\n",
        "\n",
        "\n",
        "bitcoin.SelectParams(\"testnet\")\n",
        "my_private_key = bitcoin.wallet.CBitcoinSecret(\"93M8Ue7roWS3tPBpsSLGM3TUyZGhZg2CxuX9zxqYKnnZ9RzVo3x\")\n",
        "my_public_key = my_private_key.pub\n",
        "\n",
        "priv1 = bitcoin.wallet.CBitcoinSecret(\"92Xm1FGvDYQssVPp4G4jDJ1t5NsssL2wczX1nJTFYfsDb2yQu6d\")\n",
        "priv2 = bitcoin.wallet.CBitcoinSecret(\"92pGkKhYM2LcfEGftUuP7AVa2Z9TW5ke8VjRFZRDnuSGnDkc6PB\")\n",
        "priv3 = bitcoin.wallet.CBitcoinSecret(\"91wKX692EH3nFcvunvyFbhPhV3ezNdjgLQzcFvsf4CEJcJ8gai1\")\n",
        "\n",
        "\n",
        "pub1 = priv1.pub\n",
        "pub2 = priv2.pub\n",
        "pub3 = priv3.pub\n",
        "\n",
        "my_address = bitcoin.wallet.P2PKHBitcoinAddress.from_pubkey(my_public_key)\n",
        "destination_address = bitcoin.wallet.CBitcoinAddress('mnDRW17zqsRT4ew6o4KTdsaXsqELf6uGfq')\n",
        "\n",
        "\n",
        "def P2PKH_scriptPubKey(address):\n",
        "    # return address.to_scriptPubKey() \n",
        "    return [OP_DUP, OP_HASH160, address, OP_EQUALVERIFY, OP_CHECKSIG]\n",
        "\n",
        "def P2PKH_scriptPubKey_multisig(p1,p2,p3):\n",
        "    return [my_public_key, OP_CHECKSIGVERIFY,\n",
        "                           OP_2, p1, p2, p3, OP_3, OP_CHECKMULTISIG]\n",
        "\n",
        "def P2PKH_scriptSig(txin, txout, txin_scriptPubKey):\n",
        "    signature = u.create_OP_CHECKSIG_signature(txin, txout, txin_scriptPubKey, my_private_key)\n",
        "\n",
        "    return [signature, my_public_key]\n",
        "\n",
        "def send_from_P2PKH_transaction(amount_to_send, txid_to_spend, utxo_index,\n",
        "                                txout_scriptPubKey):\n",
        "    txout = u.create_txout(amount_to_send, txout_scriptPubKey)\n",
        "\n",
        "    txin_scriptPubKey = P2PKH_scriptPubKey(my_address)\n",
        "    txin = u.create_txin(txid_to_spend, utxo_index)\n",
        "    txin_scriptSig = P2PKH_scriptSig(txin, txout, txin_scriptPubKey)\n",
        "\n",
        "    new_tx = u.create_signed_transaction(txin, txout, txin_scriptPubKey,\n",
        "                                       txin_scriptSig)\n",
        "\n",
        "    return u.broadcast_transaction(new_tx)\n",
        "\n",
        "\n",
        "if __name__ == '__main__':\n",
        "    amount_to_send = 0.01 \n",
        "    txid_to_spend = ('8d0eedb5813d48a07705a49683dfa64b4adaa8471483adc3a36ae057fab090aa')\n",
        "    utxo_index = 0\n",
        "\n",
        "    print(my_address)\n",
        "    print(my_public_key.hex())\n",
        "    print(my_private_key.hex())\n",
        "    txout_scriptPubKey = P2PKH_scriptPubKey_multisig(pub1,pub2,pub3)\n",
        "    response = send_from_P2PKH_transaction(amount_to_send, txid_to_spend, utxo_index, txout_scriptPubKey)\n",
        "    print(response.status_code, response.reason)\n",
        "    print(response.text)"
      ],
      "execution_count": null,
      "outputs": []
    },
    {
      "cell_type": "markdown",
      "metadata": {
        "id": "XnMpFxmvCXiq"
      },
      "source": [
        "after making the transaction we should spend that and send the money to my address. so for our purpose, I have written the below code for spending that. "
      ]
    },
    {
      "cell_type": "code",
      "metadata": {
        "id": "KIVYDsmaCV-t"
      },
      "source": [
        "\n",
        "from sys import exit\n",
        "from bitcoin.core.script import *\n",
        "\n",
        "from utils import *\n",
        "from transaction import *\n",
        "\n",
        "\n",
        "\n",
        "def multisig_scriptSig(txin, txout, txin_scriptPubKey):\n",
        "    bank_sig = u.create_OP_CHECKSIG_signature(txin, txout, txin_scriptPubKey,\n",
        "                                             my_private_key)\n",
        "    cust1_sig = u.create_OP_CHECKSIG_signature(txin, txout, txin_scriptPubKey,\n",
        "                                             priv1)\n",
        "    cust2_sig = u.create_OP_CHECKSIG_signature(txin, txout, txin_scriptPubKey,\n",
        "                                             priv2)\n",
        "    cust3_sig = u.create_OP_CHECKSIG_signature(txin, txout, txin_scriptPubKey,\n",
        "                                             priv3)\n",
        "\n",
        "    return [OP_0, cust2_sig, bank_sig]\n",
        "\n",
        "\n",
        "\n",
        "def send_from_multisig_transaction(amount_to_send, txid_to_spend, utxo_index,\n",
        "                                   txin_scriptPubKey, txout_scriptPubKey):\n",
        "    txout = u.create_txout(amount_to_send, txout_scriptPubKey)\n",
        "\n",
        "    txin = u.create_txin(txid_to_spend, utxo_index)\n",
        "    txin_scriptSig = multisig_scriptSig(txin, txout, txin_scriptPubKey)\n",
        "\n",
        "    new_tx = u.create_signed_transaction(txin, txout, txin_scriptPubKey,\n",
        "                                       txin_scriptSig)\n",
        "\n",
        "    return u.broadcast_transaction(new_tx)\n",
        "\n",
        "\n",
        "if __name__ == '__main__':\n",
        "\n",
        "    amount_to_send = 0.000111\n",
        "    txid_to_spend = '8d0eedb5813d48a07705a49683dfa64b4adaa8471483adc3a36ae057fab090aa'\n",
        "    utxo_index = 0\n",
        "\n",
        "\n",
        "    txin_scriptPubKey = P2PKH_scriptPubKey_multisig(pub1,pub2,pub3)\n",
        "    txout_scriptPubKey = P2PKH_scriptPubKey(my_address)\n",
        "\n",
        "    response = send_from_multisig_transaction(\n",
        "        amount_to_send, txid_to_spend, utxo_index,\n",
        "        txin_scriptPubKey, txout_scriptPubKey)\n",
        "    print(response.status_code, response.reason)\n",
        "    print(response.text)\n",
        "\n"
      ],
      "execution_count": null,
      "outputs": []
    }
  ]
}